{
 "cells": [
  {
   "cell_type": "markdown",
   "metadata": {
    "collapsed": true
   },
   "source": [
    "## Survival Analysis: Based on Gradient Boosting Machine(GBM)\n",
    "\n",
    "The tutorial give typical workflow of Gradient Boosting Desicion Tree-based survival analysis including data-preprocessing, model selection and traning&validation, uses R package `gbm`.\n",
    "\n",
    "Formally, it can be listed by:\n",
    "1. Data Preprocessing\n",
    "  - convert variables\n",
    "  - load training and test set\n",
    "2. Model Selection\n",
    "  - cross validation\n",
    "  - tune parameters\n",
    "3. Traning&Validation\n",
    "  - train gbm model\n",
    "  - measure CI on testset\n",
    "  - survival rates on time of interest\n",
    "  \n",
    "The best suggestion about usage of `gbm` is official documentation named **\"Generalized Boosted Models:A guide to the gbm package\"**. Here, I summary some points related to usage of the package and SA, and disscussion of options to gbm that most users will need to change or tune.\n",
    "\n",
    "### 1. Loss Function\n",
    "\n",
    "`distribution` is corresponding to loss function and application. Here, the option `coxph` indicating SA should be selected.\n",
    "\n",
    "### 2. Model Fitting\n",
    "\n",
    "`shrinkage` and `n.trees` are mostly related to performance, so those should be tuned carefully.\n",
    "\n",
    "As recommended by author of `gbm`, it is generally the case that for small shrinkage parameters, 0.001 for example.\n",
    ">  My rule of thumb is to set shrinkage as small as possible while still being able to fit the model in a reasonable amount of time and storage. I usually aim for 3,000 to 10,000 iterations with shrinkage rates between 0.01 and 0.001.\n",
    "\n",
    "### 3. The Optimal Number of Iterations\n",
    "\n",
    "`gbm` offers three methods for estimating the optimal number of iterations after the gbm model has been fit, an independent test set (`test`), out-of-bag estimation (`OOB`), and v-fold cross validation (`cv`). The function `gbm.perf` computes the iteration estimate.\n",
    "\n",
    "Among these methods for estimating `n.trees`, **V-Fold Cross Validation** is the best choice.\n",
    "> My recommendation is to use 5- or 10-fold cross validation if you can afford the computing time. Otherwise you may choose among the other options, knowing that OOB is conservative."
   ]
  }
 ],
 "metadata": {
  "kernelspec": {
   "display_name": "R",
   "language": "R",
   "name": "ir"
  },
  "language_info": {
   "codemirror_mode": "r",
   "file_extension": ".r",
   "mimetype": "text/x-r-source",
   "name": "R",
   "pygments_lexer": "r",
   "version": "3.5.0"
  }
 },
 "nbformat": 4,
 "nbformat_minor": 2
}
