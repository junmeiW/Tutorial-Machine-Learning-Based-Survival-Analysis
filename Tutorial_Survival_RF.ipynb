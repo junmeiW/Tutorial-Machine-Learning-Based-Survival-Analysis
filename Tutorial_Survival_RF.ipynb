{
 "cells": [
  {
   "cell_type": "markdown",
   "metadata": {},
   "source": [
    "## Survival Analysis: Based on Random Forest\n",
    "\n",
    "The tutorial give typical workflow of Random Forest-based survival analysis including data-preprocessing, model selection and traning&validation.\n",
    "\n",
    "Formally, it can be listed by:\n",
    "1. Data Preprocessing\n",
    "  - convert variables\n",
    "  - load training and test set\n",
    "2. Model Selection\n",
    "  - cross validation\n",
    "  - tune parameters\n",
    "3. Traning&Validation\n",
    "  - train RFS model\n",
    "  - evaluate CI on testset\n",
    "  - survival rates on time of interest\n",
    "  \n",
    "If you are confused about how Random Forest-based survival analysis works, you can read official documents in [here](https://kogalur.github.io/randomForestSRC/theory.html)."
   ]
  },
  {
   "cell_type": "markdown",
   "metadata": {},
   "source": [
    "### Step0 - Load library and Data"
   ]
  },
  {
   "cell_type": "code",
   "execution_count": 1,
   "metadata": {},
   "outputs": [
    {
     "name": "stderr",
     "output_type": "stream",
     "text": [
      "Warning message:\n",
      "\"package 'randomForestSRC' was built under R version 3.5.1\"\n",
      " randomForestSRC 2.7.0 \n",
      " \n",
      " Type rfsrc.news() to see new features, changes, and bug fixes. \n",
      " \n",
      "\n"
     ]
    }
   ],
   "source": [
    "library('survival')\n",
    "library('randomForestSRC')\n",
    "# set random state\n",
    "set.seed(0)"
   ]
  },
  {
   "cell_type": "code",
   "execution_count": 2,
   "metadata": {},
   "outputs": [
    {
     "name": "stdout",
     "output_type": "stream",
     "text": [
      "Number of samples: 137 \n",
      "Columns of dataset: trt celltype time status karno diagtime age prior \n"
     ]
    },
    {
     "data": {
      "text/html": [
       "<table>\n",
       "<thead><tr><th scope=col>trt</th><th scope=col>celltype</th><th scope=col>time</th><th scope=col>status</th><th scope=col>karno</th><th scope=col>diagtime</th><th scope=col>age</th><th scope=col>prior</th></tr></thead>\n",
       "<tbody>\n",
       "\t<tr><td>1  </td><td>1  </td><td> 72</td><td>1  </td><td>60 </td><td> 7 </td><td>69 </td><td> 0 </td></tr>\n",
       "\t<tr><td>1  </td><td>1  </td><td>411</td><td>1  </td><td>70 </td><td> 5 </td><td>64 </td><td>10 </td></tr>\n",
       "\t<tr><td>1  </td><td>1  </td><td>228</td><td>1  </td><td>60 </td><td> 3 </td><td>38 </td><td> 0 </td></tr>\n",
       "\t<tr><td>1  </td><td>1  </td><td>126</td><td>1  </td><td>60 </td><td> 9 </td><td>63 </td><td>10 </td></tr>\n",
       "\t<tr><td>1  </td><td>1  </td><td>118</td><td>1  </td><td>70 </td><td>11 </td><td>65 </td><td>10 </td></tr>\n",
       "</tbody>\n",
       "</table>\n"
      ],
      "text/latex": [
       "\\begin{tabular}{r|llllllll}\n",
       " trt & celltype & time & status & karno & diagtime & age & prior\\\\\n",
       "\\hline\n",
       "\t 1   & 1   &  72 & 1   & 60  &  7  & 69  &  0 \\\\\n",
       "\t 1   & 1   & 411 & 1   & 70  &  5  & 64  & 10 \\\\\n",
       "\t 1   & 1   & 228 & 1   & 60  &  3  & 38  &  0 \\\\\n",
       "\t 1   & 1   & 126 & 1   & 60  &  9  & 63  & 10 \\\\\n",
       "\t 1   & 1   & 118 & 1   & 70  & 11  & 65  & 10 \\\\\n",
       "\\end{tabular}\n"
      ],
      "text/markdown": [
       "\n",
       "trt | celltype | time | status | karno | diagtime | age | prior | \n",
       "|---|---|---|---|---|\n",
       "| 1   | 1   |  72 | 1   | 60  |  7  | 69  |  0  | \n",
       "| 1   | 1   | 411 | 1   | 70  |  5  | 64  | 10  | \n",
       "| 1   | 1   | 228 | 1   | 60  |  3  | 38  |  0  | \n",
       "| 1   | 1   | 126 | 1   | 60  |  9  | 63  | 10  | \n",
       "| 1   | 1   | 118 | 1   | 70  | 11  | 65  | 10  | \n",
       "\n",
       "\n"
      ],
      "text/plain": [
       "  trt celltype time status karno diagtime age prior\n",
       "1 1   1         72  1      60     7       69   0   \n",
       "2 1   1        411  1      70     5       64  10   \n",
       "3 1   1        228  1      60     3       38   0   \n",
       "4 1   1        126  1      60     9       63  10   \n",
       "5 1   1        118  1      70    11       65  10   "
      ]
     },
     "metadata": {},
     "output_type": "display_data"
    }
   ],
   "source": [
    "data(veteran, package = \"randomForestSRC\")\n",
    "cat(\"Number of samples:\", nrow(veteran), \"\\n\")\n",
    "cat(\"Columns of dataset:\", colnames(veteran), \"\\n\")\n",
    "veteran[c(1:5), ]"
   ]
  },
  {
   "cell_type": "markdown",
   "metadata": {},
   "source": [
    "### Step1 - Data Preprocessing\n",
    "\n",
    "You can split dataset into training and test or directly load data by reading files"
   ]
  },
  {
   "cell_type": "code",
   "execution_count": 3,
   "metadata": {},
   "outputs": [],
   "source": [
    "# Sample the data and create a training subset.\n",
    "train <- sample(1:nrow(veteran), round(nrow(veteran) * 0.80))\n",
    "data_train <- veteran[train, ]\n",
    "data_test <- veteran[-train, ]"
   ]
  },
  {
   "cell_type": "markdown",
   "metadata": {},
   "source": [
    "### Step2 - Model Selection\n",
    "\n",
    "This section includes hyperparameters tuning by k-fold cross validation on training set"
   ]
  },
  {
   "cell_type": "code",
   "execution_count": null,
   "metadata": {
    "collapsed": true
   },
   "outputs": [],
   "source": []
  },
  {
   "cell_type": "markdown",
   "metadata": {},
   "source": [
    "### Step3 - Model Training & Evaluation"
   ]
  },
  {
   "cell_type": "markdown",
   "metadata": {},
   "source": [
    "We will pass arguments to object `rfsrc` for training robust model after completing hyperparameters tuning, and then validate our fitted model using test set.\n",
    "\n",
    "Here, evaluation and more in this section includes:\n",
    "- calculating CI metrics\n",
    "- calculating survival rate on specified time\n",
    "- saving result as file\n",
    "\n",
    "**Notes:**\n",
    "\n",
    "The RFS's prediction for individual $i$ is the sum of CHE(cumulative hazard estimate) on time of death $t_i$.\n",
    "\n",
    "$$\n",
    "\\begin{equation}\n",
    "\\mathcal{M}_i = \\sum_{k=1}^{M}\\hat{H}_e^*(t_k^*|{\\bf X}_i).\n",
    "\\end{equation}\n",
    "$$\n",
    "\n",
    "You can understand it via [this](https://kogalur.github.io/randomForestSRC/theory.html)"
   ]
  },
  {
   "cell_type": "markdown",
   "metadata": {},
   "source": [
    "#### 3.0 - Model Training"
   ]
  },
  {
   "cell_type": "code",
   "execution_count": 4,
   "metadata": {},
   "outputs": [
    {
     "name": "stdout",
     "output_type": "stream",
     "text": [
      "                         Sample size: 110\n",
      "                    Number of deaths: 102\n",
      "                     Number of trees: 100\n",
      "           Forest terminal node size: 3\n",
      "       Average no. of terminal nodes: 36.99\n",
      "No. of variables tried at each split: 3\n",
      "              Total no. of variables: 6\n",
      "       Resampling used to grow trees: swr\n",
      "    Resample size used to grow trees: 110\n",
      "                            Analysis: RSF\n",
      "                              Family: surv\n",
      "                      Splitting rule: logrank *random*\n",
      "       Number of random split points: 10\n",
      "                          Error rate: 28.88%\n",
      "\n",
      "  Sample size of test (predict) data: 27\n",
      "       Number of deaths in test data: 26\n",
      "                Number of grow trees: 100\n",
      "  Average no. of grow terminal nodes: 36.99\n",
      "         Total no. of grow variables: 6\n",
      "       Resampling used to grow trees: swr\n",
      "    Resample size used to grow trees: 110\n",
      "                            Analysis: RSF\n",
      "                              Family: surv\n",
      "                 Test set error rate: 32.09%\n",
      "\n"
     ]
    }
   ],
   "source": [
    "# pass arguments we got before\n",
    "# Train the model.\n",
    "model <- rfsrc(Surv(time, status) ~ ., data_train, ntree = 100)\n",
    "# Test the model\n",
    "pred <- predict(model, data_test)\n",
    "# Compare the results.\n",
    "print(model)\n",
    "print(pred)"
   ]
  },
  {
   "cell_type": "markdown",
   "metadata": {},
   "source": [
    "#### 3.1 - CI (concordance index)\n",
    "\n",
    "We can get $1-\\text{CI}$ (concordance index) by any of two below:\n",
    "- Test set error in the output of `print(veteran.pred)`\n",
    "- built-in methods `cindex(T, E, Pred)`"
   ]
  },
  {
   "cell_type": "code",
   "execution_count": 5,
   "metadata": {},
   "outputs": [
    {
     "data": {
      "text/html": [
       "0.32089552238806"
      ],
      "text/latex": [
       "0.32089552238806"
      ],
      "text/markdown": [
       "0.32089552238806"
      ],
      "text/plain": [
       "[1] 0.3208955"
      ]
     },
     "metadata": {},
     "output_type": "display_data"
    }
   ],
   "source": [
    "# pred$chf denotes CHE(cumulative hazard estimate) on all time of death for individual i\n",
    "# pred$predicted denotes the sum of CHE(cumulative hazard estimate) on all time of death for individual i\n",
    "cindex(data_test$time, data_test$status, pred$predicted)"
   ]
  },
  {
   "cell_type": "markdown",
   "metadata": {},
   "source": [
    "#### 3.2 - Survival function\n",
    "\n",
    "Prediction of survival function on test set can be accessed by `veteran.pred$survival`"
   ]
  },
  {
   "cell_type": "code",
   "execution_count": 6,
   "metadata": {},
   "outputs": [
    {
     "data": {
      "text/html": [
       "<ol class=list-inline>\n",
       "\t<li>1</li>\n",
       "\t<li>3</li>\n",
       "\t<li>4</li>\n",
       "\t<li>7</li>\n",
       "\t<li>8</li>\n",
       "\t<li>10</li>\n",
       "\t<li>11</li>\n",
       "\t<li>12</li>\n",
       "\t<li>13</li>\n",
       "\t<li>15</li>\n",
       "\t<li>16</li>\n",
       "\t<li>18</li>\n",
       "\t<li>19</li>\n",
       "\t<li>20</li>\n",
       "\t<li>21</li>\n",
       "\t<li>24</li>\n",
       "\t<li>25</li>\n",
       "\t<li>27</li>\n",
       "\t<li>29</li>\n",
       "\t<li>30</li>\n",
       "\t<li>31</li>\n",
       "\t<li>33</li>\n",
       "\t<li>35</li>\n",
       "\t<li>36</li>\n",
       "\t<li>42</li>\n",
       "\t<li>44</li>\n",
       "\t<li>45</li>\n",
       "\t<li>48</li>\n",
       "\t<li>49</li>\n",
       "\t<li>51</li>\n",
       "\t<li>52</li>\n",
       "\t<li>53</li>\n",
       "\t<li>54</li>\n",
       "\t<li>56</li>\n",
       "\t<li>59</li>\n",
       "\t<li>61</li>\n",
       "\t<li>63</li>\n",
       "\t<li>73</li>\n",
       "\t<li>80</li>\n",
       "\t<li>82</li>\n",
       "\t<li>84</li>\n",
       "\t<li>87</li>\n",
       "\t<li>92</li>\n",
       "\t<li>95</li>\n",
       "\t<li>99</li>\n",
       "\t<li>103</li>\n",
       "\t<li>105</li>\n",
       "\t<li>110</li>\n",
       "\t<li>112</li>\n",
       "\t<li>117</li>\n",
       "\t<li>126</li>\n",
       "\t<li>133</li>\n",
       "\t<li>139</li>\n",
       "\t<li>140</li>\n",
       "\t<li>143</li>\n",
       "\t<li>144</li>\n",
       "\t<li>151</li>\n",
       "\t<li>153</li>\n",
       "\t<li>156</li>\n",
       "\t<li>162</li>\n",
       "\t<li>177</li>\n",
       "\t<li>186</li>\n",
       "\t<li>200</li>\n",
       "\t<li>216</li>\n",
       "\t<li>228</li>\n",
       "\t<li>242</li>\n",
       "\t<li>250</li>\n",
       "\t<li>260</li>\n",
       "\t<li>278</li>\n",
       "\t<li>283</li>\n",
       "\t<li>287</li>\n",
       "\t<li>314</li>\n",
       "\t<li>357</li>\n",
       "\t<li>378</li>\n",
       "\t<li>389</li>\n",
       "\t<li>411</li>\n",
       "\t<li>467</li>\n",
       "\t<li>587</li>\n",
       "\t<li>991</li>\n",
       "\t<li>999</li>\n",
       "</ol>\n"
      ],
      "text/latex": [
       "\\begin{enumerate*}\n",
       "\\item 1\n",
       "\\item 3\n",
       "\\item 4\n",
       "\\item 7\n",
       "\\item 8\n",
       "\\item 10\n",
       "\\item 11\n",
       "\\item 12\n",
       "\\item 13\n",
       "\\item 15\n",
       "\\item 16\n",
       "\\item 18\n",
       "\\item 19\n",
       "\\item 20\n",
       "\\item 21\n",
       "\\item 24\n",
       "\\item 25\n",
       "\\item 27\n",
       "\\item 29\n",
       "\\item 30\n",
       "\\item 31\n",
       "\\item 33\n",
       "\\item 35\n",
       "\\item 36\n",
       "\\item 42\n",
       "\\item 44\n",
       "\\item 45\n",
       "\\item 48\n",
       "\\item 49\n",
       "\\item 51\n",
       "\\item 52\n",
       "\\item 53\n",
       "\\item 54\n",
       "\\item 56\n",
       "\\item 59\n",
       "\\item 61\n",
       "\\item 63\n",
       "\\item 73\n",
       "\\item 80\n",
       "\\item 82\n",
       "\\item 84\n",
       "\\item 87\n",
       "\\item 92\n",
       "\\item 95\n",
       "\\item 99\n",
       "\\item 103\n",
       "\\item 105\n",
       "\\item 110\n",
       "\\item 112\n",
       "\\item 117\n",
       "\\item 126\n",
       "\\item 133\n",
       "\\item 139\n",
       "\\item 140\n",
       "\\item 143\n",
       "\\item 144\n",
       "\\item 151\n",
       "\\item 153\n",
       "\\item 156\n",
       "\\item 162\n",
       "\\item 177\n",
       "\\item 186\n",
       "\\item 200\n",
       "\\item 216\n",
       "\\item 228\n",
       "\\item 242\n",
       "\\item 250\n",
       "\\item 260\n",
       "\\item 278\n",
       "\\item 283\n",
       "\\item 287\n",
       "\\item 314\n",
       "\\item 357\n",
       "\\item 378\n",
       "\\item 389\n",
       "\\item 411\n",
       "\\item 467\n",
       "\\item 587\n",
       "\\item 991\n",
       "\\item 999\n",
       "\\end{enumerate*}\n"
      ],
      "text/markdown": [
       "1. 1\n",
       "2. 3\n",
       "3. 4\n",
       "4. 7\n",
       "5. 8\n",
       "6. 10\n",
       "7. 11\n",
       "8. 12\n",
       "9. 13\n",
       "10. 15\n",
       "11. 16\n",
       "12. 18\n",
       "13. 19\n",
       "14. 20\n",
       "15. 21\n",
       "16. 24\n",
       "17. 25\n",
       "18. 27\n",
       "19. 29\n",
       "20. 30\n",
       "21. 31\n",
       "22. 33\n",
       "23. 35\n",
       "24. 36\n",
       "25. 42\n",
       "26. 44\n",
       "27. 45\n",
       "28. 48\n",
       "29. 49\n",
       "30. 51\n",
       "31. 52\n",
       "32. 53\n",
       "33. 54\n",
       "34. 56\n",
       "35. 59\n",
       "36. 61\n",
       "37. 63\n",
       "38. 73\n",
       "39. 80\n",
       "40. 82\n",
       "41. 84\n",
       "42. 87\n",
       "43. 92\n",
       "44. 95\n",
       "45. 99\n",
       "46. 103\n",
       "47. 105\n",
       "48. 110\n",
       "49. 112\n",
       "50. 117\n",
       "51. 126\n",
       "52. 133\n",
       "53. 139\n",
       "54. 140\n",
       "55. 143\n",
       "56. 144\n",
       "57. 151\n",
       "58. 153\n",
       "59. 156\n",
       "60. 162\n",
       "61. 177\n",
       "62. 186\n",
       "63. 200\n",
       "64. 216\n",
       "65. 228\n",
       "66. 242\n",
       "67. 250\n",
       "68. 260\n",
       "69. 278\n",
       "70. 283\n",
       "71. 287\n",
       "72. 314\n",
       "73. 357\n",
       "74. 378\n",
       "75. 389\n",
       "76. 411\n",
       "77. 467\n",
       "78. 587\n",
       "79. 991\n",
       "80. 999\n",
       "\n",
       "\n"
      ],
      "text/plain": [
       " [1]   1   3   4   7   8  10  11  12  13  15  16  18  19  20  21  24  25  27  29\n",
       "[20]  30  31  33  35  36  42  44  45  48  49  51  52  53  54  56  59  61  63  73\n",
       "[39]  80  82  84  87  92  95  99 103 105 110 112 117 126 133 139 140 143 144 151\n",
       "[58] 153 156 162 177 186 200 216 228 242 250 260 278 283 287 314 357 378 389 411\n",
       "[77] 467 587 991 999"
      ]
     },
     "metadata": {},
     "output_type": "display_data"
    }
   ],
   "source": [
    "# All time of deaths \n",
    "pred$time.interest"
   ]
  },
  {
   "cell_type": "code",
   "execution_count": 7,
   "metadata": {},
   "outputs": [
    {
     "name": "stdout",
     "output_type": "stream",
     "text": [
      "Survival rate for each item in test set at time 15 \n",
      " [1] 0.9470000 0.8618333 0.8783333 0.8556667 0.9143333 0.9241667 0.8698333\n",
      " [8] 0.9565000 0.6515000 0.9830000 0.9905000 0.5318333 0.9806667 1.0000000\n",
      "[15] 0.8590000 0.8431667 0.6905000 0.6711667 0.8493333 0.9675000 0.9361667\n",
      "[22] 0.9480000 0.5396667 0.9343333 0.9625000 0.8960000 0.9455000\n"
     ]
    }
   ],
   "source": [
    "time_idx <- 10\n",
    "# Surival rate at specified time\n",
    "cat(\"Survival rate for each item in test set at time\", pred$time.interest[time_idx], \"\\n\")\n",
    "print(pred$survival[, time_idx])"
   ]
  },
  {
   "cell_type": "markdown",
   "metadata": {},
   "source": [
    "#### 3.3 - Saving as file\n",
    "\n",
    "Here, we concate test data and prediction, survival rate, and then convert it to csv file."
   ]
  },
  {
   "cell_type": "code",
   "execution_count": 8,
   "metadata": {
    "collapsed": true
   },
   "outputs": [],
   "source": [
    "res_test <- data_test\n",
    "# predicted outcome for test set\n",
    "res_test$pred <- pred$predicted\n",
    "res_test$survival_rate <- pred$survival[, time_idx]"
   ]
  },
  {
   "cell_type": "code",
   "execution_count": 9,
   "metadata": {},
   "outputs": [],
   "source": [
    "write.csv(res_test, file = \"result_rsf.csv\")"
   ]
  },
  {
   "cell_type": "markdown",
   "metadata": {},
   "source": [
    "### In the end\n",
    "\n",
    "If you find something wrong or confused, feel free to concact me via raising **issue on github** or sending e-mail to **yuukilp@163.com**"
   ]
  }
 ],
 "metadata": {
  "kernelspec": {
   "display_name": "R",
   "language": "R",
   "name": "ir"
  },
  "language_info": {
   "codemirror_mode": "r",
   "file_extension": ".r",
   "mimetype": "text/x-r-source",
   "name": "R",
   "pygments_lexer": "r",
   "version": "3.5.0"
  }
 },
 "nbformat": 4,
 "nbformat_minor": 2
}
